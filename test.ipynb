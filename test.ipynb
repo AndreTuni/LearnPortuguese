{
 "cells": [
  {
   "cell_type": "code",
   "execution_count": 1,
   "outputs": [
    {
     "name": "stdout",
     "output_type": "stream",
     "text": [
      "Verbs in Portuguese: ['abrir', 'acabar', 'aceitar', 'acender', 'acertar', 'achar', 'acontecer', 'acordar', 'adiantar', 'adorar', 'ajudar', 'almoçar', 'amar', 'andar', 'aparecer', 'aprender', 'apresentar', 'aprovar', 'aproveitar', 'aproximar']\n",
      "Verbs in Italian: ['aprire', 'finire', 'accettare', 'accendere', 'indovinare', 'trovare', 'succedere', 'svegliarsi', 'anticipare', 'adorare', 'aiutare', 'pranzare', 'amare', ' camminare', 'apparire', 'imparare', 'presentare', 'approvare', 'approfittare', 'avvicinare']\n",
      "Nouns in Portuguese: ['amor', 'casa', 'tempo', 'vida', 'coisa', 'dia', 'homem', 'mulher', 'ano', 'amigo', 'trabalho', 'família', 'pessoa', 'país', 'mundo', 'escola', 'parte', 'cidade', 'ponto', 'forma']\n",
      "Nouns in Italian: ['amore', 'casa', 'tempo', 'vita', 'cosa', 'giorno', 'uomo', 'donna', 'anno', 'amico', 'lavoro', 'famiglia', 'persona', 'paese', 'mondo', 'scuola', 'parte', 'città', 'punto', 'forma']\n",
      "Adjectives in Portuguese: ['bom', 'grande', 'novo', 'pouco', 'melhor', 'pequeno', 'certo', 'grátis', 'último', 'diferente', 'importante', 'todos', 'alto', 'outro', 'forte', 'antigo', 'próximo', 'verdadeiro', 'grátis', 'velho']\n",
      "Adjectives in Italian: ['buono', 'grande', 'nuovo', 'poco', 'migliore', 'piccolo', 'sicuro', 'gratuito', 'ultimo', 'differente', 'importante', 'tutti', 'alto', 'altro', 'forte', 'antico', 'prossimo', 'vero', 'gratis', 'vecchio']\n",
      "Adverbs in Portuguese: ['assim', 'bem', 'nunca', 'agora', 'já', 'mais', 'também', 'aqui', 'depois', 'ontem', 'hoje', 'muito', 'sempre', 'ainda', 'logo', 'cedo', 'quase', 'tarde', 'quando', 'brevemente']\n",
      "Adverbs in Italian: ['così', 'bene', 'mai', 'ora', 'già', 'più', 'anche', 'qui', 'dopo', 'ieri', 'oggi', 'molto', 'sempre', 'ancora', 'subito', 'presto', 'quasi', 'tardi', 'quando', ' brevemente']\n"
     ]
    }
   ],
   "source": [
    "# This is a sample Python script.\n",
    "\n",
    "# Press Shift+F10 to execute it or replace it with your code.\n",
    "# Press Double Shift to search everywhere for classes, files, tool windows, actions, and settings.\n",
    "import csv\n",
    "\n",
    "\n",
    "\n",
    "\n",
    "def load_data(file_path):\n",
    "    pt_list = []\n",
    "    ita_list = []\n",
    "\n",
    "    with open(file_path, 'r', encoding='utf-8') as csv_file:\n",
    "        csv_reader = csv.reader(csv_file)\n",
    "        next(csv_reader)  # Skip the header row\n",
    "\n",
    "        for row in csv_reader:\n",
    "            pt, ita = row\n",
    "            pt_list.append(pt)\n",
    "            ita_list.append(ita)\n",
    "\n",
    "    return pt_list, ita_list\n",
    "\n",
    "\n",
    "\n",
    "verbs_pt, verbs_ita = load_data('res/verbs.csv')\n",
    "nouns_pt, nouns_ita = load_data('res/nouns.csv')\n",
    "adj_pt, adj_ita = load_data('res/adjectives.csv')\n",
    "adv_pt, adv_ita = load_data('res/adverbs.csv')\n",
    "\n",
    "\n",
    "print(\"Verbs in Portuguese:\", verbs_pt)\n",
    "print(\"Verbs in Italian:\", verbs_ita)\n",
    "print(\"Nouns in Portuguese:\", nouns_pt)\n",
    "print(\"Nouns in Italian:\", nouns_ita)\n",
    "print(\"Adjectives in Portuguese:\", adj_pt)\n",
    "print(\"Adjectives in Italian:\", adj_ita)\n",
    "print(\"Adverbs in Portuguese:\", adv_pt)\n",
    "print(\"Adverbs in Italian:\", adv_ita)\n"
   ],
   "metadata": {
    "collapsed": false,
    "ExecuteTime": {
     "end_time": "2023-08-19T10:26:50.353043198Z",
     "start_time": "2023-08-19T10:26:50.350849631Z"
    }
   },
   "id": "dd571ded682fae77"
  },
  {
   "cell_type": "code",
   "execution_count": 3,
   "id": "initial_id",
   "metadata": {
    "collapsed": true,
    "ExecuteTime": {
     "end_time": "2023-08-19T10:28:00.658680049Z",
     "start_time": "2023-08-19T10:28:00.616219730Z"
    }
   },
   "outputs": [
    {
     "name": "stdout",
     "output_type": "stream",
     "text": [
      "Qual è il significato di 'acordar'?\n",
      "1. finire\n",
      "2. trovare\n",
      "3. svegliarsi\n",
      "Correct answer: svegliarsi\n"
     ]
    }
   ],
   "source": [
    "import random\n",
    "\n",
    "def quiz_pt(pt, ita):\n",
    "    question_index = random.randint(0, len(pt) - 1)\n",
    "    correct_answer = ita[question_index]\n",
    "\n",
    "    # Generate indices for wrong answer options\n",
    "    indices = list(range(len(ita)))\n",
    "    indices.remove(question_index)\n",
    "    wrong_answer_indices = random.sample(indices, 2)\n",
    "    wrong_answer1 = ita[wrong_answer_indices[0]]\n",
    "    wrong_answer2 = ita[wrong_answer_indices[1]]\n",
    "\n",
    "    question = f\"Qual è il significato di '{pt[question_index]}'?\"\n",
    "    options = [correct_answer, wrong_answer1, wrong_answer2]\n",
    "    random.shuffle(options)\n",
    "\n",
    "    return question, options, correct_answer\n",
    "\n",
    "# Example usage\n",
    "# pt_list = [\"abrir\", \"acabar\", \"aceitar\", \"acender\", \"acertar\"]  # Replace with your list of Portuguese verbs\n",
    "# ita_list = [\"aprire\", \"finire\", \"accettare\", \"accendere\", \"indovinare\"]  # Replace with your list of Italian translations\n",
    "\n",
    "question, options, correct_answer = quiz_pt(verbs_pt, verbs_ita)\n",
    "print(question)\n",
    "for i, option in enumerate(options, start=1):\n",
    "    print(f\"{i}. {option}\")\n",
    "\n",
    "print(\"Correct answer:\", correct_answer)\n"
   ]
  },
  {
   "cell_type": "code",
   "execution_count": 5,
   "outputs": [
    {
     "name": "stdout",
     "output_type": "stream",
     "text": [
      "What is the Italian translation of 'acertar'?\n",
      "1. accettare\n",
      "2. finire\n",
      "3. indovinare\n",
      "Invalid input. Please enter a valid option (1/2/3).\n",
      "What is the Italian translation of 'aceitar'?\n",
      "1. indovinare\n",
      "2. accettare\n",
      "3. aprire\n",
      "Incorrect!\n",
      "Lives remaining: 2\n",
      "What is the Italian translation of 'acender'?\n",
      "1. accendere\n",
      "2. accettare\n",
      "3. indovinare\n",
      "Correct!\n",
      "What is the Italian translation of 'aceitar'?\n",
      "1. accettare\n",
      "2. accendere\n",
      "3. finire\n",
      "Correct!\n",
      "What is the Italian translation of 'acabar'?\n",
      "1. finire\n",
      "2. indovinare\n",
      "3. aprire\n",
      "Correct!\n",
      "What is the Italian translation of 'acender'?\n",
      "1. aprire\n",
      "2. accettare\n",
      "3. accendere\n",
      "Incorrect!\n",
      "Lives remaining: 1\n",
      "What is the Italian translation of 'acabar'?\n",
      "1. indovinare\n",
      "2. finire\n",
      "3. accettare\n",
      "Incorrect!\n",
      "Lives remaining: 0\n",
      "Game over!\n",
      "Your final score: 300\n"
     ]
    }
   ],
   "source": [
    "import random\n",
    "\n",
    "def quiz_pt(pt, ita, lives=3):\n",
    "    score = 0\n",
    "\n",
    "    while lives > 0:\n",
    "        question_index = random.randint(0, len(pt) - 1)\n",
    "        correct_answer = ita[question_index]\n",
    "\n",
    "        # Generate indices for wrong answer options\n",
    "        indices = list(range(len(ita)))\n",
    "        indices.remove(question_index)\n",
    "        wrong_answer_indices = random.sample(indices, 2)\n",
    "        wrong_answer1 = ita[wrong_answer_indices[0]]\n",
    "        wrong_answer2 = ita[wrong_answer_indices[1]]\n",
    "\n",
    "        question = f\"What is the Italian translation of '{pt[question_index]}'?\"\n",
    "        options = [correct_answer, wrong_answer1, wrong_answer2]\n",
    "        random.shuffle(options)\n",
    "\n",
    "        print(question)\n",
    "        for i, option in enumerate(options, start=1):\n",
    "            print(f\"{i}. {option}\")\n",
    "\n",
    "        user_choice = input(\"Enter your answer (1/2/3): \")\n",
    "        if user_choice.isdigit() and 1 <= int(user_choice) <= 3:\n",
    "            chosen_option = options[int(user_choice) - 1]\n",
    "            if chosen_option == correct_answer:\n",
    "                print(\"Correct!\")\n",
    "                score += 100\n",
    "            else:\n",
    "                print(\"Incorrect!\")\n",
    "                lives -= 1\n",
    "                print(f\"Lives remaining: {lives}\")\n",
    "        else:\n",
    "            print(\"Invalid input. Please enter a valid option (1/2/3).\")\n",
    "\n",
    "    print(\"Game over!\")\n",
    "    print(f\"Your final score: {score}\")\n",
    "\n",
    "# Example usage\n",
    "pt_list = [\"abrir\", \"acabar\", \"aceitar\", \"acender\", \"acertar\"]  # Replace with your list of Portuguese verbs\n",
    "ita_list = [\"aprire\", \"finire\", \"accettare\", \"accendere\", \"indovinare\"]  # Replace with your list of Italian translations\n",
    "\n",
    "quiz_pt(pt_list, ita_list)\n"
   ],
   "metadata": {
    "collapsed": false,
    "ExecuteTime": {
     "end_time": "2023-08-19T10:32:37.518395183Z",
     "start_time": "2023-08-19T10:32:27.714319344Z"
    }
   },
   "id": "79bfc7a9f069b49"
  },
  {
   "cell_type": "code",
   "execution_count": 8,
   "outputs": [
    {
     "name": "stdout",
     "output_type": "stream",
     "text": [
      "Fill in the gap in the sentence:\n",
      "I like to eat pizza on ___\n",
      "1. carrot\n",
      "2. juice\n",
      "3. Fridays.\n",
      "4. apple\n",
      "Invalid choice. Please choose a valid option.\n"
     ]
    }
   ],
   "source": [
    "import random\n",
    "\n",
    "def gap_filling_game_with_options_from_list(sentence, wrong_words):\n",
    "    words = sentence.split()\n",
    "    if len(words) < 3:\n",
    "        print(\"The sentence should contain at least three words.\")\n",
    "        return\n",
    "    \n",
    "    gap_index = random.randint(0, len(words) - 1)\n",
    "    removed_word = words[gap_index]\n",
    "    words[gap_index] = \"___\"\n",
    "\n",
    "    gap_filled_sentence = \" \".join(words)\n",
    "    print(\"Fill in the gap in the sentence:\")\n",
    "    print(gap_filled_sentence)\n",
    "\n",
    "    options = [removed_word]\n",
    "    while len(options) < 4:\n",
    "        random_word = random.choice(wrong_words)\n",
    "        if random_word not in options:\n",
    "            options.append(random_word)\n",
    "\n",
    "    random.shuffle(options)\n",
    "\n",
    "    for i, option in enumerate(options, start=1):\n",
    "        print(f\"{i}. {option}\")\n",
    "\n",
    "    user_choice = input(\"Choose the correct word (1/2/3/4): \")\n",
    "    \n",
    "    if user_choice.isdigit() and 1 <= int(user_choice) <= len(options):\n",
    "        chosen_option = options[int(user_choice) - 1]\n",
    "        if chosen_option == removed_word:\n",
    "            print(\"Correct! Well done.\")\n",
    "        else:\n",
    "            print(f\"Wrong answer. The correct word was '{removed_word}'.\")\n",
    "    else:\n",
    "        print(\"Invalid choice. Please choose a valid option.\")\n",
    "\n",
    "# Example usage\n",
    "sentence = \"I like to eat pizza on Fridays.\"\n",
    "wrong_words = [\"apple\", \"banana\", \"carrot\", \"juice\"]\n",
    "gap_filling_game_with_options_from_list(sentence, wrong_words)\n"
   ],
   "metadata": {
    "collapsed": false,
    "ExecuteTime": {
     "end_time": "2023-08-19T15:08:14.863228940Z",
     "start_time": "2023-08-19T15:08:12.670470525Z"
    }
   },
   "id": "2fd75c20e4f6cb10"
  },
  {
   "cell_type": "code",
   "execution_count": 8,
   "outputs": [
    {
     "name": "stdout",
     "output_type": "stream",
     "text": [
      "['A brisa suave balança as folhas das arvores criando um som relaxante', 'Crianças brincam alegremente no parquinho cheio de risos e energia', 'O céu noturno é pontilhado por estrelas brilhantes formando constelaçoes', 'Uma xicara de cha quente aquece as maos frias em uma tarde de inverno', 'Flores coloridas desabrocham na primavera trazendo vida e cor ao jardim', 'O cachorro corre pelo campo com a lingua de fora e o rabo balançando', 'A cidade ganha vida à noite com as luzes iluminando as ruas movimentadas', 'A chuva cai em gotas grossas criando poças que refletem o céu cinzento', 'A praia se estende por quilômetros com areia branca e aguas cristalinas', 'O aroma de pao recémassado enche a padaria tentando todos que passam', 'O rio flui tranquilamente entre as margens arborizadas criando um cenario sereno', 'O gato cochila preguiçosamente no sofa aproveitando o sol da tarde', 'Passaros cantam melodias encantadoras no topo das arvores saudando o amanhecer', 'Amigos riem juntos em um encontro animado compartilhando historias engraçadas', 'Um livro cativante prende a atençao do leitor transportandoo para um mundo ficticio', 'As nuvens se transformam em tons de laranja e rosa ao pôr do sol pintando o céu', 'Um cachorro molhado sacode a agua apos um mergulho refrescante no lago', 'O perfume de jasmim perfuma o ar criando uma atmosfera romântica', 'O barulho das ondas quebrando na costa traz uma sensaçao de paz à beiramar', 'Uma colher mexe a massa do bolo criando uma mistura suave e deliciosa', 'Uma pilha de folhas coloridas é varrida pelo vento outonal dançando no ar', 'O sorriso de uma criança ilumina o ambiente contagiando todos ao redor', 'O trem passa pelos trilhos criando um som distante e familiar', 'O cheiro de grama recémcortada preenche o ar trazendo lembranças de veroes passados', 'A lua cheia brilha intensamente no céu noturno iluminando a escuridao', 'O sol nascente pinta o horizonte com tons dourados e alaranjados', 'O gotejar da agua da torneira cria uma melodia suave no silêncio da cozinha', 'Uma fogueira crepita aquecendo os coraçoes em uma noite fria de acampamento', 'O cheiro de café fresco enche a sala despertando os sentidos pela manha', 'Um arcoiris se forma apos a chuva enchendo o céu com cores vibrantes', 'A cidade ganha vida com o som do trafego e conversas animadas', 'A montanha se eleva majestosamente coberta por uma vegetaçao exuberante', 'O som do mar ao longo da costa cria uma trilha sonora relaxante para a praia', 'O tremor do terremoto é sentido fazendo os objetos vibrarem em suas prateleiras', 'O cheiro de pipoca estourando enche o ar provocando a fome no cinema', 'Uma borboleta pousa suavemente em uma flor desdobrando suas asas coloridas', 'A neve cai silenciosamente do céu cobrindo o mundo de branco', 'Um relogio antigo faz um tiquetaque constante marcando o passar do tempo', 'As estrelas cintilam no céu noturno formando constelaçoes familiares', 'Um rio corre rapido pela encosta da montanha formando cascatas em seu caminho', 'O perfume de rosas frescas perfuma o jardim enchendo o ar de fragrância', 'O vento sussurra pelas arvores criando uma melodia suave na floresta', 'A areia quente sob os pés é uma sensaçao reconfortante na praia de verao', 'Um sorriso amigavel acolhe os visitantes em uma pequena cidade pitoresca', 'O trovao ruge no céu anunciando a chegada de uma tempestade iminente', 'A vista panorâmica das montanhas é de tirar o fôlego oferecendo uma visao majestosa', 'O aroma de churrasco na brasa enche o ar despertando o apetite de todos', 'A risada de uma criança ecoa no parque trazendo alegria a todos os presentes', 'O vento carrega folhas secas pelo ar formando um tapete dourado no chao', 'Uma guitarra é dedilhada suavemente criando uma melodia doce e melancolica', 'A vela tremeluz na brisa criando sombras dançantes nas paredes', 'A montanharussa acelera fazendo os coraçoes baterem mais rapido de emoçao', 'O barulho das folhas sob os pés cria uma trilha sonora outonal no parque', 'O gato se espreguiça preguiçosamente sob o sol quente da tarde', 'O som de risos e conversas preenche o restaurante animado à noite', 'A chuva bate nas janelas criando um ritmo suave e reconfortante', 'O farol brilha intensamente na costa guiando os navios na escuridao', 'O cheiro de terra molhada apos a chuva traz uma sensaçao de renovaçao', 'A multidao aplaude entusiasticamente durante o concerto empolgante', 'Um aviao decola deixando um rastro de fumaça no céu azul claro', 'O cheiro de bolo recémassado flutua da cozinha provocando o apetite', 'As abelhas zumbem ao redor das flores coletando néctar para a colmeia', 'O som das ondas quebrando na praia é uma melodia constante e relaxante', 'Uma chuva de meteoros ilumina o céu noturno deixando rastros brilhantes', 'O ruido do vento nos galhos das arvores cria um som suave na floresta', 'O trafego se move em ritmo constante enchendo a cidade com atividade', 'O aroma de comida de rua enche o ar tentando os transeuntes famintos', 'O som do teclado digitando preenche o escritorio silencioso de manha cedo', 'Uma abobora é esculpida em uma lanterna assustadora para o Halloween', 'O cheiro de grama fresca é libertado quando a cortadora passa pelo gramado', 'Um riacho murmura suavemente enquanto a agua flui sobre as pedras', 'O som de sinos distantes marca o inicio da cerimônia de casamento', 'A explosao de fogos de artificio ilumina o céu noturno enchendoo de cores', 'O cheiro de café torrado enche a cafeteria atraindo os amantes da cafeina', 'O som de risos e aplausos preenche o teatro durante a peça emocionante', 'A buzina do navio ecoa pelo porto anunciando sua partida iminente', 'O aroma de pinheiros é transportado pelo ar criando um ambiente natalino', 'O som de um sino marca o final do dia escolar e a alegria do recreio', 'A respiraçao profunda do mar se mistura com o vento à beira da praia', 'O cheiro de terra fresca é liberado apos a chuva revitalizando a natureza', 'O som de passos na neve cria uma trilha sonora natalina durante o inverno', 'A sirene da ambulância soa alertando sobre uma situaçao de emergência', 'O aroma de pipoca quente preenche o cinema fazendo todos salivarem', 'O som das folhas sendo folheadas cria uma atmosfera calma na biblioteca', 'O badalar do sino anuncia o inicio da cerimônia de formatura', 'A explosao de fogos de artificio pinta o céu noturno com cores vibrantes', 'O cheiro de comida caseira enche a cozinha despertando o apetite', 'O som de crianças brincando no parque traz alegria à comunidade', 'O farfalhar das folhas nas arvores cria uma sinfonia serena na floresta', 'O aroma de flores frescas perfuma o ar em um jardim de verao', 'O som do sino da igreja ressoa no ar marcando o inicio da missa', 'A explosao de fogos de artificio encanta a multidao durante a celebraçao', 'O cheiro de panquecas na frigideira desperta o apetite na manha de domingo', 'O som de passaros cantando cria uma trilha sonora encantadora ao amanhecer', 'A batida da musica enche a pista de dança animando a festa', 'O aroma de churrasco na brasa é irresistivel em um dia ensolarado', 'O som das ondas quebrando na costa proporciona um ambiente relaxante', 'O toque do sino marca o inicio do casamento enchendo a igreja de alegria', 'O cheiro de terra molhada apos a tempestade traz renovaçao à natureza', 'O som de risos e conversas animadas enche o ar durante o piquenique']\n"
     ]
    }
   ],
   "source": [
    "import re\n",
    "\n",
    "def load_sentences(file_path):\n",
    "    sentences = []\n",
    "\n",
    "    with open(file_path, 'r') as file:\n",
    "        for line in file:\n",
    "            # Remove numbers\n",
    "            line = re.sub(r'\\d+', '', line)\n",
    "\n",
    "            # Remove special characters using regex\n",
    "            line = re.sub(r'[^\\w\\sãñõÃÑÕâêîôûÂÊÎÔÛ]', '', line)\n",
    "\n",
    "            # Replace ã with à\n",
    "            line = re.sub(r'á', 'a', line)\n",
    "            line = re.sub(r'í', 'i', line)\n",
    "            line = re.sub(r'ó', 'o', line)\n",
    "            line = re.sub(r'ú', 'u', line)\n",
    "            line = re.sub(r'ñ', 'n', line)\n",
    "            line = re.sub(r'õ', 'o', line)\n",
    "            line = re.sub(r'ã', 'a', line)\n",
    "            \n",
    "\n",
    "            # Split the line into sentences using regex\n",
    "            sentence_list = re.split('(?<!\\w\\.\\w.)(?<![A-Z][a-z]\\.)(?<=\\.|\\?)\\s', line.strip())\n",
    "            sentence_list = [sentence.strip() for sentence in sentence_list if sentence.strip()]\n",
    "            sentences.extend(sentence_list)\n",
    "\n",
    "    return sentences\n",
    "\n",
    "file_path = \"res/paragrafos.txt\"\n",
    "sentences = load_sentences(file_path)\n",
    "print(sentences)\n"
   ],
   "metadata": {
    "collapsed": false,
    "ExecuteTime": {
     "end_time": "2023-08-19T17:17:09.647453738Z",
     "start_time": "2023-08-19T17:17:09.601644971Z"
    }
   },
   "id": "663d7c832db9920f"
  }
 ],
 "metadata": {
  "kernelspec": {
   "display_name": "Python 3",
   "language": "python",
   "name": "python3"
  },
  "language_info": {
   "codemirror_mode": {
    "name": "ipython",
    "version": 2
   },
   "file_extension": ".py",
   "mimetype": "text/x-python",
   "name": "python",
   "nbconvert_exporter": "python",
   "pygments_lexer": "ipython2",
   "version": "2.7.6"
  }
 },
 "nbformat": 4,
 "nbformat_minor": 5
}
